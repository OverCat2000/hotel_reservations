{
 "cells": [
  {
   "cell_type": "code",
   "execution_count": 112,
   "id": "bfeb01b7-36db-4c46-9936-f9be3f664e3f",
   "metadata": {},
   "outputs": [],
   "source": [
    "import pandas as pd\n",
    "import numpy as np\n",
    "import matplotlib.pyplot as plt"
   ]
  },
  {
   "cell_type": "code",
   "execution_count": 28,
   "id": "e087776e-8cf6-45fd-b45e-44371532ed17",
   "metadata": {},
   "outputs": [],
   "source": [
    "df = pd.read_csv(\"Hotel Reservations.csv\")"
   ]
  },
  {
   "cell_type": "code",
   "execution_count": 29,
   "id": "52e44368-d1ca-47b5-a424-cc27b2d279b3",
   "metadata": {},
   "outputs": [
    {
     "data": {
      "text/html": [
       "<div>\n",
       "<style scoped>\n",
       "    .dataframe tbody tr th:only-of-type {\n",
       "        vertical-align: middle;\n",
       "    }\n",
       "\n",
       "    .dataframe tbody tr th {\n",
       "        vertical-align: top;\n",
       "    }\n",
       "\n",
       "    .dataframe thead th {\n",
       "        text-align: right;\n",
       "    }\n",
       "</style>\n",
       "<table border=\"1\" class=\"dataframe\">\n",
       "  <thead>\n",
       "    <tr style=\"text-align: right;\">\n",
       "      <th></th>\n",
       "      <th>Booking_ID</th>\n",
       "      <th>no_of_adults</th>\n",
       "      <th>no_of_children</th>\n",
       "      <th>no_of_weekend_nights</th>\n",
       "      <th>no_of_week_nights</th>\n",
       "      <th>type_of_meal_plan</th>\n",
       "      <th>required_car_parking_space</th>\n",
       "      <th>room_type_reserved</th>\n",
       "      <th>lead_time</th>\n",
       "      <th>arrival_year</th>\n",
       "      <th>arrival_month</th>\n",
       "      <th>arrival_date</th>\n",
       "      <th>market_segment_type</th>\n",
       "      <th>repeated_guest</th>\n",
       "      <th>no_of_previous_cancellations</th>\n",
       "      <th>no_of_previous_bookings_not_canceled</th>\n",
       "      <th>avg_price_per_room</th>\n",
       "      <th>no_of_special_requests</th>\n",
       "      <th>booking_status</th>\n",
       "    </tr>\n",
       "  </thead>\n",
       "  <tbody>\n",
       "    <tr>\n",
       "      <th>0</th>\n",
       "      <td>INN00001</td>\n",
       "      <td>2</td>\n",
       "      <td>0</td>\n",
       "      <td>1</td>\n",
       "      <td>2</td>\n",
       "      <td>Meal Plan 1</td>\n",
       "      <td>0</td>\n",
       "      <td>Room_Type 1</td>\n",
       "      <td>224</td>\n",
       "      <td>2017</td>\n",
       "      <td>10</td>\n",
       "      <td>2</td>\n",
       "      <td>Offline</td>\n",
       "      <td>0</td>\n",
       "      <td>0</td>\n",
       "      <td>0</td>\n",
       "      <td>65.00</td>\n",
       "      <td>0</td>\n",
       "      <td>Not_Canceled</td>\n",
       "    </tr>\n",
       "    <tr>\n",
       "      <th>1</th>\n",
       "      <td>INN00002</td>\n",
       "      <td>2</td>\n",
       "      <td>0</td>\n",
       "      <td>2</td>\n",
       "      <td>3</td>\n",
       "      <td>Not Selected</td>\n",
       "      <td>0</td>\n",
       "      <td>Room_Type 1</td>\n",
       "      <td>5</td>\n",
       "      <td>2018</td>\n",
       "      <td>11</td>\n",
       "      <td>6</td>\n",
       "      <td>Online</td>\n",
       "      <td>0</td>\n",
       "      <td>0</td>\n",
       "      <td>0</td>\n",
       "      <td>106.68</td>\n",
       "      <td>1</td>\n",
       "      <td>Not_Canceled</td>\n",
       "    </tr>\n",
       "    <tr>\n",
       "      <th>2</th>\n",
       "      <td>INN00003</td>\n",
       "      <td>1</td>\n",
       "      <td>0</td>\n",
       "      <td>2</td>\n",
       "      <td>1</td>\n",
       "      <td>Meal Plan 1</td>\n",
       "      <td>0</td>\n",
       "      <td>Room_Type 1</td>\n",
       "      <td>1</td>\n",
       "      <td>2018</td>\n",
       "      <td>2</td>\n",
       "      <td>28</td>\n",
       "      <td>Online</td>\n",
       "      <td>0</td>\n",
       "      <td>0</td>\n",
       "      <td>0</td>\n",
       "      <td>60.00</td>\n",
       "      <td>0</td>\n",
       "      <td>Canceled</td>\n",
       "    </tr>\n",
       "    <tr>\n",
       "      <th>3</th>\n",
       "      <td>INN00004</td>\n",
       "      <td>2</td>\n",
       "      <td>0</td>\n",
       "      <td>0</td>\n",
       "      <td>2</td>\n",
       "      <td>Meal Plan 1</td>\n",
       "      <td>0</td>\n",
       "      <td>Room_Type 1</td>\n",
       "      <td>211</td>\n",
       "      <td>2018</td>\n",
       "      <td>5</td>\n",
       "      <td>20</td>\n",
       "      <td>Online</td>\n",
       "      <td>0</td>\n",
       "      <td>0</td>\n",
       "      <td>0</td>\n",
       "      <td>100.00</td>\n",
       "      <td>0</td>\n",
       "      <td>Canceled</td>\n",
       "    </tr>\n",
       "    <tr>\n",
       "      <th>4</th>\n",
       "      <td>INN00005</td>\n",
       "      <td>2</td>\n",
       "      <td>0</td>\n",
       "      <td>1</td>\n",
       "      <td>1</td>\n",
       "      <td>Not Selected</td>\n",
       "      <td>0</td>\n",
       "      <td>Room_Type 1</td>\n",
       "      <td>48</td>\n",
       "      <td>2018</td>\n",
       "      <td>4</td>\n",
       "      <td>11</td>\n",
       "      <td>Online</td>\n",
       "      <td>0</td>\n",
       "      <td>0</td>\n",
       "      <td>0</td>\n",
       "      <td>94.50</td>\n",
       "      <td>0</td>\n",
       "      <td>Canceled</td>\n",
       "    </tr>\n",
       "    <tr>\n",
       "      <th>...</th>\n",
       "      <td>...</td>\n",
       "      <td>...</td>\n",
       "      <td>...</td>\n",
       "      <td>...</td>\n",
       "      <td>...</td>\n",
       "      <td>...</td>\n",
       "      <td>...</td>\n",
       "      <td>...</td>\n",
       "      <td>...</td>\n",
       "      <td>...</td>\n",
       "      <td>...</td>\n",
       "      <td>...</td>\n",
       "      <td>...</td>\n",
       "      <td>...</td>\n",
       "      <td>...</td>\n",
       "      <td>...</td>\n",
       "      <td>...</td>\n",
       "      <td>...</td>\n",
       "      <td>...</td>\n",
       "    </tr>\n",
       "    <tr>\n",
       "      <th>36270</th>\n",
       "      <td>INN36271</td>\n",
       "      <td>3</td>\n",
       "      <td>0</td>\n",
       "      <td>2</td>\n",
       "      <td>6</td>\n",
       "      <td>Meal Plan 1</td>\n",
       "      <td>0</td>\n",
       "      <td>Room_Type 4</td>\n",
       "      <td>85</td>\n",
       "      <td>2018</td>\n",
       "      <td>8</td>\n",
       "      <td>3</td>\n",
       "      <td>Online</td>\n",
       "      <td>0</td>\n",
       "      <td>0</td>\n",
       "      <td>0</td>\n",
       "      <td>167.80</td>\n",
       "      <td>1</td>\n",
       "      <td>Not_Canceled</td>\n",
       "    </tr>\n",
       "    <tr>\n",
       "      <th>36271</th>\n",
       "      <td>INN36272</td>\n",
       "      <td>2</td>\n",
       "      <td>0</td>\n",
       "      <td>1</td>\n",
       "      <td>3</td>\n",
       "      <td>Meal Plan 1</td>\n",
       "      <td>0</td>\n",
       "      <td>Room_Type 1</td>\n",
       "      <td>228</td>\n",
       "      <td>2018</td>\n",
       "      <td>10</td>\n",
       "      <td>17</td>\n",
       "      <td>Online</td>\n",
       "      <td>0</td>\n",
       "      <td>0</td>\n",
       "      <td>0</td>\n",
       "      <td>90.95</td>\n",
       "      <td>2</td>\n",
       "      <td>Canceled</td>\n",
       "    </tr>\n",
       "    <tr>\n",
       "      <th>36272</th>\n",
       "      <td>INN36273</td>\n",
       "      <td>2</td>\n",
       "      <td>0</td>\n",
       "      <td>2</td>\n",
       "      <td>6</td>\n",
       "      <td>Meal Plan 1</td>\n",
       "      <td>0</td>\n",
       "      <td>Room_Type 1</td>\n",
       "      <td>148</td>\n",
       "      <td>2018</td>\n",
       "      <td>7</td>\n",
       "      <td>1</td>\n",
       "      <td>Online</td>\n",
       "      <td>0</td>\n",
       "      <td>0</td>\n",
       "      <td>0</td>\n",
       "      <td>98.39</td>\n",
       "      <td>2</td>\n",
       "      <td>Not_Canceled</td>\n",
       "    </tr>\n",
       "    <tr>\n",
       "      <th>36273</th>\n",
       "      <td>INN36274</td>\n",
       "      <td>2</td>\n",
       "      <td>0</td>\n",
       "      <td>0</td>\n",
       "      <td>3</td>\n",
       "      <td>Not Selected</td>\n",
       "      <td>0</td>\n",
       "      <td>Room_Type 1</td>\n",
       "      <td>63</td>\n",
       "      <td>2018</td>\n",
       "      <td>4</td>\n",
       "      <td>21</td>\n",
       "      <td>Online</td>\n",
       "      <td>0</td>\n",
       "      <td>0</td>\n",
       "      <td>0</td>\n",
       "      <td>94.50</td>\n",
       "      <td>0</td>\n",
       "      <td>Canceled</td>\n",
       "    </tr>\n",
       "    <tr>\n",
       "      <th>36274</th>\n",
       "      <td>INN36275</td>\n",
       "      <td>2</td>\n",
       "      <td>0</td>\n",
       "      <td>1</td>\n",
       "      <td>2</td>\n",
       "      <td>Meal Plan 1</td>\n",
       "      <td>0</td>\n",
       "      <td>Room_Type 1</td>\n",
       "      <td>207</td>\n",
       "      <td>2018</td>\n",
       "      <td>12</td>\n",
       "      <td>30</td>\n",
       "      <td>Offline</td>\n",
       "      <td>0</td>\n",
       "      <td>0</td>\n",
       "      <td>0</td>\n",
       "      <td>161.67</td>\n",
       "      <td>0</td>\n",
       "      <td>Not_Canceled</td>\n",
       "    </tr>\n",
       "  </tbody>\n",
       "</table>\n",
       "<p>36275 rows × 19 columns</p>\n",
       "</div>"
      ],
      "text/plain": [
       "      Booking_ID  no_of_adults  no_of_children  no_of_weekend_nights  \\\n",
       "0       INN00001             2               0                     1   \n",
       "1       INN00002             2               0                     2   \n",
       "2       INN00003             1               0                     2   \n",
       "3       INN00004             2               0                     0   \n",
       "4       INN00005             2               0                     1   \n",
       "...          ...           ...             ...                   ...   \n",
       "36270   INN36271             3               0                     2   \n",
       "36271   INN36272             2               0                     1   \n",
       "36272   INN36273             2               0                     2   \n",
       "36273   INN36274             2               0                     0   \n",
       "36274   INN36275             2               0                     1   \n",
       "\n",
       "       no_of_week_nights type_of_meal_plan  required_car_parking_space  \\\n",
       "0                      2       Meal Plan 1                           0   \n",
       "1                      3      Not Selected                           0   \n",
       "2                      1       Meal Plan 1                           0   \n",
       "3                      2       Meal Plan 1                           0   \n",
       "4                      1      Not Selected                           0   \n",
       "...                  ...               ...                         ...   \n",
       "36270                  6       Meal Plan 1                           0   \n",
       "36271                  3       Meal Plan 1                           0   \n",
       "36272                  6       Meal Plan 1                           0   \n",
       "36273                  3      Not Selected                           0   \n",
       "36274                  2       Meal Plan 1                           0   \n",
       "\n",
       "      room_type_reserved  lead_time  arrival_year  arrival_month  \\\n",
       "0            Room_Type 1        224          2017             10   \n",
       "1            Room_Type 1          5          2018             11   \n",
       "2            Room_Type 1          1          2018              2   \n",
       "3            Room_Type 1        211          2018              5   \n",
       "4            Room_Type 1         48          2018              4   \n",
       "...                  ...        ...           ...            ...   \n",
       "36270        Room_Type 4         85          2018              8   \n",
       "36271        Room_Type 1        228          2018             10   \n",
       "36272        Room_Type 1        148          2018              7   \n",
       "36273        Room_Type 1         63          2018              4   \n",
       "36274        Room_Type 1        207          2018             12   \n",
       "\n",
       "       arrival_date market_segment_type  repeated_guest  \\\n",
       "0                 2             Offline               0   \n",
       "1                 6              Online               0   \n",
       "2                28              Online               0   \n",
       "3                20              Online               0   \n",
       "4                11              Online               0   \n",
       "...             ...                 ...             ...   \n",
       "36270             3              Online               0   \n",
       "36271            17              Online               0   \n",
       "36272             1              Online               0   \n",
       "36273            21              Online               0   \n",
       "36274            30             Offline               0   \n",
       "\n",
       "       no_of_previous_cancellations  no_of_previous_bookings_not_canceled  \\\n",
       "0                                 0                                     0   \n",
       "1                                 0                                     0   \n",
       "2                                 0                                     0   \n",
       "3                                 0                                     0   \n",
       "4                                 0                                     0   \n",
       "...                             ...                                   ...   \n",
       "36270                             0                                     0   \n",
       "36271                             0                                     0   \n",
       "36272                             0                                     0   \n",
       "36273                             0                                     0   \n",
       "36274                             0                                     0   \n",
       "\n",
       "       avg_price_per_room  no_of_special_requests booking_status  \n",
       "0                   65.00                       0   Not_Canceled  \n",
       "1                  106.68                       1   Not_Canceled  \n",
       "2                   60.00                       0       Canceled  \n",
       "3                  100.00                       0       Canceled  \n",
       "4                   94.50                       0       Canceled  \n",
       "...                   ...                     ...            ...  \n",
       "36270              167.80                       1   Not_Canceled  \n",
       "36271               90.95                       2       Canceled  \n",
       "36272               98.39                       2   Not_Canceled  \n",
       "36273               94.50                       0       Canceled  \n",
       "36274              161.67                       0   Not_Canceled  \n",
       "\n",
       "[36275 rows x 19 columns]"
      ]
     },
     "execution_count": 29,
     "metadata": {},
     "output_type": "execute_result"
    }
   ],
   "source": [
    "df"
   ]
  },
  {
   "cell_type": "code",
   "execution_count": 30,
   "id": "a552b597-3a45-407f-b454-d9e479d3edd2",
   "metadata": {},
   "outputs": [
    {
     "name": "stdout",
     "output_type": "stream",
     "text": [
      "<class 'pandas.core.frame.DataFrame'>\n",
      "RangeIndex: 36275 entries, 0 to 36274\n",
      "Data columns (total 19 columns):\n",
      " #   Column                                Non-Null Count  Dtype  \n",
      "---  ------                                --------------  -----  \n",
      " 0   Booking_ID                            36275 non-null  object \n",
      " 1   no_of_adults                          36275 non-null  int64  \n",
      " 2   no_of_children                        36275 non-null  int64  \n",
      " 3   no_of_weekend_nights                  36275 non-null  int64  \n",
      " 4   no_of_week_nights                     36275 non-null  int64  \n",
      " 5   type_of_meal_plan                     36275 non-null  object \n",
      " 6   required_car_parking_space            36275 non-null  int64  \n",
      " 7   room_type_reserved                    36275 non-null  object \n",
      " 8   lead_time                             36275 non-null  int64  \n",
      " 9   arrival_year                          36275 non-null  int64  \n",
      " 10  arrival_month                         36275 non-null  int64  \n",
      " 11  arrival_date                          36275 non-null  int64  \n",
      " 12  market_segment_type                   36275 non-null  object \n",
      " 13  repeated_guest                        36275 non-null  int64  \n",
      " 14  no_of_previous_cancellations          36275 non-null  int64  \n",
      " 15  no_of_previous_bookings_not_canceled  36275 non-null  int64  \n",
      " 16  avg_price_per_room                    36275 non-null  float64\n",
      " 17  no_of_special_requests                36275 non-null  int64  \n",
      " 18  booking_status                        36275 non-null  object \n",
      "dtypes: float64(1), int64(13), object(5)\n",
      "memory usage: 5.3+ MB\n"
     ]
    }
   ],
   "source": [
    "df.info()"
   ]
  },
  {
   "cell_type": "code",
   "execution_count": 31,
   "id": "3ec50196-b358-4b96-b989-a01238a69a25",
   "metadata": {},
   "outputs": [],
   "source": [
    "df = df.drop([\"Booking_ID\"], axis=1)"
   ]
  },
  {
   "cell_type": "code",
   "execution_count": 32,
   "id": "bec512c4-fbab-447c-b73b-1ba4f0b99438",
   "metadata": {},
   "outputs": [
    {
     "data": {
      "text/plain": [
       "(Index(['no_of_adults', 'no_of_children', 'no_of_weekend_nights',\n",
       "        'no_of_week_nights', 'type_of_meal_plan', 'required_car_parking_space',\n",
       "        'room_type_reserved', 'lead_time', 'arrival_year', 'arrival_month',\n",
       "        'arrival_date', 'market_segment_type', 'repeated_guest',\n",
       "        'no_of_previous_cancellations', 'no_of_previous_bookings_not_canceled',\n",
       "        'avg_price_per_room', 'no_of_special_requests', 'booking_status'],\n",
       "       dtype='object'),\n",
       " 18)"
      ]
     },
     "execution_count": 32,
     "metadata": {},
     "output_type": "execute_result"
    }
   ],
   "source": [
    "df.columns, len(df.columns)"
   ]
  },
  {
   "cell_type": "code",
   "execution_count": 33,
   "id": "1bfc4966-6d9c-44b5-bad7-2296121df628",
   "metadata": {},
   "outputs": [
    {
     "data": {
      "text/plain": [
       "Index(['type_of_meal_plan', 'room_type_reserved', 'market_segment_type',\n",
       "       'booking_status'],\n",
       "      dtype='object')"
      ]
     },
     "execution_count": 33,
     "metadata": {},
     "output_type": "execute_result"
    }
   ],
   "source": [
    "cat_cols = df.select_dtypes(\"object\").columns\n",
    "cat_cols"
   ]
  },
  {
   "cell_type": "code",
   "execution_count": 34,
   "id": "01a9bf57-477c-4ae7-8f8d-2f4fa7ceb922",
   "metadata": {},
   "outputs": [
    {
     "data": {
      "text/plain": [
       "Index(['no_of_adults', 'no_of_children', 'no_of_weekend_nights',\n",
       "       'no_of_week_nights', 'required_car_parking_space', 'lead_time',\n",
       "       'arrival_year', 'arrival_month', 'arrival_date', 'repeated_guest',\n",
       "       'no_of_previous_cancellations', 'no_of_previous_bookings_not_canceled',\n",
       "       'avg_price_per_room', 'no_of_special_requests'],\n",
       "      dtype='object')"
      ]
     },
     "execution_count": 34,
     "metadata": {},
     "output_type": "execute_result"
    }
   ],
   "source": [
    "num_cols = df.select_dtypes([\"int\", \"float\"]).columns\n",
    "num_cols"
   ]
  },
  {
   "cell_type": "code",
   "execution_count": 36,
   "id": "076a022a-8e23-4d3b-9f6e-04020db900d6",
   "metadata": {},
   "outputs": [
    {
     "data": {
      "text/plain": [
       "18"
      ]
     },
     "execution_count": 36,
     "metadata": {},
     "output_type": "execute_result"
    }
   ],
   "source": [
    "len(num_cols) + len(cat_cols)"
   ]
  },
  {
   "cell_type": "code",
   "execution_count": 44,
   "id": "d16cb9a0-fab8-43cc-808e-cc54a58b0cb1",
   "metadata": {
    "collapsed": true,
    "jupyter": {
     "outputs_hidden": true
    }
   },
   "outputs": [
    {
     "name": "stdout",
     "output_type": "stream",
     "text": [
      "no_of_adults\n",
      "2    26108\n",
      "1     7695\n",
      "3     2317\n",
      "0      139\n",
      "4       16\n",
      "Name: count, dtype: int64\n",
      "no_of_children\n",
      "0     33577\n",
      "1      1618\n",
      "2      1058\n",
      "3        19\n",
      "9         2\n",
      "10        1\n",
      "Name: count, dtype: int64\n",
      "no_of_weekend_nights\n",
      "0    16872\n",
      "1     9995\n",
      "2     9071\n",
      "3      153\n",
      "4      129\n",
      "5       34\n",
      "6       20\n",
      "7        1\n",
      "Name: count, dtype: int64\n",
      "no_of_week_nights\n",
      "2     11444\n",
      "1      9488\n",
      "3      7839\n",
      "4      2990\n",
      "0      2387\n",
      "5      1614\n",
      "6       189\n",
      "7       113\n",
      "10       62\n",
      "8        62\n",
      "9        34\n",
      "11       17\n",
      "15       10\n",
      "12        9\n",
      "14        7\n",
      "13        5\n",
      "17        3\n",
      "16        2\n",
      "Name: count, dtype: int64\n",
      "required_car_parking_space\n",
      "0    35151\n",
      "1     1124\n",
      "Name: count, dtype: int64\n",
      "lead_time\n",
      "0      1297\n",
      "1      1078\n",
      "2       643\n",
      "3       630\n",
      "4       628\n",
      "       ... \n",
      "300       1\n",
      "353       1\n",
      "328       1\n",
      "352       1\n",
      "351       1\n",
      "Name: count, Length: 352, dtype: int64\n",
      "arrival_year\n",
      "2018    29761\n",
      "2017     6514\n",
      "Name: count, dtype: int64\n",
      "arrival_month\n",
      "10    5317\n",
      "9     4611\n",
      "8     3813\n",
      "6     3203\n",
      "12    3021\n",
      "11    2980\n",
      "7     2920\n",
      "4     2736\n",
      "5     2598\n",
      "3     2358\n",
      "2     1704\n",
      "1     1014\n",
      "Name: count, dtype: int64\n",
      "arrival_date\n",
      "13    1358\n",
      "17    1345\n",
      "2     1331\n",
      "4     1327\n",
      "19    1327\n",
      "16    1306\n",
      "20    1281\n",
      "15    1273\n",
      "6     1273\n",
      "18    1260\n",
      "14    1242\n",
      "30    1216\n",
      "12    1204\n",
      "8     1198\n",
      "29    1190\n",
      "21    1158\n",
      "5     1154\n",
      "26    1146\n",
      "25    1146\n",
      "1     1133\n",
      "9     1130\n",
      "28    1129\n",
      "7     1110\n",
      "24    1103\n",
      "11    1098\n",
      "3     1098\n",
      "10    1089\n",
      "27    1059\n",
      "22    1023\n",
      "23     990\n",
      "31     578\n",
      "Name: count, dtype: int64\n",
      "repeated_guest\n",
      "0    35345\n",
      "1      930\n",
      "Name: count, dtype: int64\n",
      "no_of_previous_cancellations\n",
      "0     35937\n",
      "1       198\n",
      "2        46\n",
      "3        43\n",
      "11       25\n",
      "5        11\n",
      "4        10\n",
      "13        4\n",
      "6         1\n",
      "Name: count, dtype: int64\n",
      "no_of_previous_bookings_not_canceled\n",
      "0     35463\n",
      "1       228\n",
      "2       112\n",
      "3        80\n",
      "4        65\n",
      "5        60\n",
      "6        36\n",
      "7        24\n",
      "8        23\n",
      "10       19\n",
      "9        19\n",
      "11       15\n",
      "12       12\n",
      "14        9\n",
      "15        8\n",
      "16        7\n",
      "13        7\n",
      "18        6\n",
      "20        6\n",
      "21        6\n",
      "17        6\n",
      "19        6\n",
      "22        6\n",
      "25        3\n",
      "27        3\n",
      "24        3\n",
      "23        3\n",
      "44        2\n",
      "29        2\n",
      "48        2\n",
      "28        2\n",
      "30        2\n",
      "32        2\n",
      "31        2\n",
      "26        2\n",
      "46        1\n",
      "55        1\n",
      "45        1\n",
      "57        1\n",
      "53        1\n",
      "54        1\n",
      "58        1\n",
      "41        1\n",
      "40        1\n",
      "43        1\n",
      "35        1\n",
      "50        1\n",
      "56        1\n",
      "33        1\n",
      "37        1\n",
      "42        1\n",
      "51        1\n",
      "38        1\n",
      "34        1\n",
      "39        1\n",
      "52        1\n",
      "49        1\n",
      "47        1\n",
      "36        1\n",
      "Name: count, dtype: int64\n",
      "avg_price_per_room\n",
      "65.00     848\n",
      "75.00     826\n",
      "90.00     703\n",
      "95.00     669\n",
      "115.00    662\n",
      "         ... \n",
      "212.42      1\n",
      "83.48       1\n",
      "70.42       1\n",
      "130.99      1\n",
      "167.80      1\n",
      "Name: count, Length: 3930, dtype: int64\n",
      "no_of_special_requests\n",
      "0    19777\n",
      "1    11373\n",
      "2     4364\n",
      "3      675\n",
      "4       78\n",
      "5        8\n",
      "Name: count, dtype: int64\n"
     ]
    }
   ],
   "source": [
    "for i in num_cols:\n",
    "    print(df[i].value_counts())"
   ]
  },
  {
   "cell_type": "code",
   "execution_count": 45,
   "id": "78849a66-41c7-4354-a328-8163491e9162",
   "metadata": {
    "collapsed": true,
    "jupyter": {
     "outputs_hidden": true
    }
   },
   "outputs": [
    {
     "name": "stdout",
     "output_type": "stream",
     "text": [
      "type_of_meal_plan\n",
      "Meal Plan 1     27835\n",
      "Not Selected     5130\n",
      "Meal Plan 2      3305\n",
      "Meal Plan 3         5\n",
      "Name: count, dtype: int64\n",
      "room_type_reserved\n",
      "Room_Type 1    28130\n",
      "Room_Type 4     6057\n",
      "Room_Type 6      966\n",
      "Room_Type 2      692\n",
      "Room_Type 5      265\n",
      "Room_Type 7      158\n",
      "Room_Type 3        7\n",
      "Name: count, dtype: int64\n",
      "market_segment_type\n",
      "Online           23214\n",
      "Offline          10528\n",
      "Corporate         2017\n",
      "Complementary      391\n",
      "Aviation           125\n",
      "Name: count, dtype: int64\n",
      "booking_status\n",
      "Not_Canceled    24390\n",
      "Canceled        11885\n",
      "Name: count, dtype: int64\n"
     ]
    }
   ],
   "source": [
    "for i in cat_cols:\n",
    "    print(df[i].value_counts())"
   ]
  },
  {
   "cell_type": "markdown",
   "id": "a984785b-e37c-47c1-841f-2d27cd91bc53",
   "metadata": {},
   "source": [
    "> booking without any adults"
   ]
  },
  {
   "cell_type": "code",
   "execution_count": 62,
   "id": "2276cbe0-26ad-44e6-b120-8ac0b6913a4c",
   "metadata": {},
   "outputs": [
    {
     "data": {
      "text/plain": [
       "no_of_children\n",
       "2    133\n",
       "3      5\n",
       "1      1\n",
       "Name: count, dtype: int64"
      ]
     },
     "execution_count": 62,
     "metadata": {},
     "output_type": "execute_result"
    }
   ],
   "source": [
    "df.no_of_children[df.no_of_adults == 0].value_counts()"
   ]
  },
  {
   "cell_type": "code",
   "execution_count": 67,
   "id": "91c7feb5-4a0e-4494-84ea-9d5add1712a8",
   "metadata": {},
   "outputs": [
    {
     "data": {
      "text/plain": [
       "booking_status\n",
       "Not_Canceled    95\n",
       "Canceled        44\n",
       "Name: count, dtype: int64"
      ]
     },
     "execution_count": 67,
     "metadata": {},
     "output_type": "execute_result"
    }
   ],
   "source": [
    "df.booking_status[df.no_of_adults == 0].value_counts()"
   ]
  },
  {
   "cell_type": "code",
   "execution_count": 103,
   "id": "847d271a-1906-4337-972c-4eab7b8a8de4",
   "metadata": {},
   "outputs": [
    {
     "data": {
      "text/plain": [
       "market_segment_type\n",
       "Online           134\n",
       "Complementary      4\n",
       "Offline            1\n",
       "Name: count, dtype: int64"
      ]
     },
     "execution_count": 103,
     "metadata": {},
     "output_type": "execute_result"
    }
   ],
   "source": [
    "df.market_segment_type[df.no_of_adults == 0].value_counts()"
   ]
  },
  {
   "cell_type": "markdown",
   "id": "41891101-17d6-4624-ba95-37b6cc2de962",
   "metadata": {},
   "source": [
    "> number of days 0 instances"
   ]
  },
  {
   "cell_type": "code",
   "execution_count": 85,
   "id": "b908c7b7-3680-49f0-9c66-f6db75bf3168",
   "metadata": {},
   "outputs": [
    {
     "data": {
      "text/plain": [
       "no_of_weekend_nights\n",
       "1    1522\n",
       "2     787\n",
       "0      78\n",
       "Name: count, dtype: int64"
      ]
     },
     "execution_count": 85,
     "metadata": {},
     "output_type": "execute_result"
    }
   ],
   "source": [
    "df.no_of_weekend_nights[df.no_of_week_nights == 0].value_counts()"
   ]
  },
  {
   "cell_type": "code",
   "execution_count": 86,
   "id": "b07c783f-c3f1-4fe0-86b3-bb4b308beea5",
   "metadata": {},
   "outputs": [
    {
     "data": {
      "text/plain": [
       "booking_status\n",
       "Not_Canceled    76\n",
       "Canceled         2\n",
       "Name: count, dtype: int64"
      ]
     },
     "execution_count": 86,
     "metadata": {},
     "output_type": "execute_result"
    }
   ],
   "source": [
    "df[(df.no_of_week_nights == 0) & (df.no_of_weekend_nights == 0)].booking_status.value_counts()"
   ]
  },
  {
   "cell_type": "code",
   "execution_count": 89,
   "id": "2bea5a39-6bed-4420-8ce9-f0fa769f9707",
   "metadata": {},
   "outputs": [
    {
     "data": {
      "text/plain": [
       "0.0"
      ]
     },
     "execution_count": 89,
     "metadata": {},
     "output_type": "execute_result"
    }
   ],
   "source": [
    "df[(df.no_of_week_nights == 0) & (df.no_of_weekend_nights == 0)].avg_price_per_room.sum()"
   ]
  },
  {
   "cell_type": "code",
   "execution_count": 96,
   "id": "322326cd-037d-418d-8f84-2e27785798cb",
   "metadata": {},
   "outputs": [
    {
     "data": {
      "text/plain": [
       "type_of_meal_plan\n",
       "Meal Plan 1     57\n",
       "Not Selected    16\n",
       "Meal Plan 2      5\n",
       "Name: count, dtype: int64"
      ]
     },
     "execution_count": 96,
     "metadata": {},
     "output_type": "execute_result"
    }
   ],
   "source": [
    "df[(df.no_of_week_nights == 0) & (df.no_of_weekend_nights == 0)].type_of_meal_plan.value_counts()"
   ]
  },
  {
   "cell_type": "code",
   "execution_count": 101,
   "id": "94f2f44d-443d-46d2-bb93-ead1f9b607a6",
   "metadata": {},
   "outputs": [
    {
     "data": {
      "text/plain": [
       "market_segment_type\n",
       "Online           65\n",
       "Complementary    13\n",
       "Name: count, dtype: int64"
      ]
     },
     "execution_count": 101,
     "metadata": {},
     "output_type": "execute_result"
    }
   ],
   "source": [
    "df[(df.no_of_week_nights == 0) & (df.no_of_weekend_nights == 0)].market_segment_type.value_counts()"
   ]
  },
  {
   "cell_type": "markdown",
   "id": "6ffd0559-ae69-4426-bec6-db73aedb348a",
   "metadata": {},
   "source": [
    "> previous cancellations"
   ]
  },
  {
   "cell_type": "code",
   "execution_count": 111,
   "id": "0dfe0490-7ccc-445b-83da-127d0fbfc895",
   "metadata": {},
   "outputs": [
    {
     "data": {
      "text/plain": [
       "booking_status\n",
       "Not_Canceled    322\n",
       "Canceled         16\n",
       "Name: count, dtype: int64"
      ]
     },
     "execution_count": 111,
     "metadata": {},
     "output_type": "execute_result"
    }
   ],
   "source": [
    "df.booking_status[df.no_of_previous_cancellations != 0].value_counts()"
   ]
  },
  {
   "cell_type": "code",
   "execution_count": null,
   "id": "ac5a5583-7de4-4a43-967d-a6707b784b60",
   "metadata": {},
   "outputs": [],
   "source": []
  },
  {
   "cell_type": "markdown",
   "id": "bdd5c24c-0e6b-4e0e-bc8c-4b816b610c84",
   "metadata": {},
   "source": [
    "## EDA"
   ]
  },
  {
   "cell_type": "code",
   "execution_count": 132,
   "id": "eb995d67-fab3-4966-9612-03879c75fa1a",
   "metadata": {},
   "outputs": [
    {
     "data": {
      "text/plain": [
       "<Axes: xlabel='arrival_month'>"
      ]
     },
     "execution_count": 132,
     "metadata": {},
     "output_type": "execute_result"
    },
    {
     "data": {
      "image/png": "[encoded data removed]",
      "text/plain": [
       "<Figure size 1000x500 with 2 Axes>"
      ]
     },
     "metadata": {},
     "output_type": "display_data"
    }
   ],
   "source": [
    "temp = pd.crosstab(df.arrival_month, df.booking_status)\n",
    "perc = temp.div(temp.sum(axis=1), axis=0) * 100\n",
    "\n",
    "fig, (ax1, ax2) = plt.subplots(1, 2, figsize=(10, 5))\n",
    "perc.plot(kind=\"bar\", stacked=True, ax=ax1)\n",
    "df.arrival_month.value_counts().sort_index().plot(kind=\"bar\", ax=ax2)"
   ]
  },
  {
   "cell_type": "code",
   "execution_count": null,
   "id": "18014a13-67d9-4cbe-8c65-e0820bd66982",
   "metadata": {},
   "outputs": [],
   "source": []
  },
  {
   "cell_type": "code",
   "execution_count": null,
   "id": "ddee422d-ab0c-4cf4-8697-2bf3f524da33",
   "metadata": {},
   "outputs": [],
   "source": []
  },
  {
   "cell_type": "code",
   "execution_count": null,
   "id": "de59d2bc-e1e7-4134-92b5-f98bfb2e79c9",
   "metadata": {},
   "outputs": [],
   "source": []
  }
 ],
 "metadata": {
  "kernelspec": {
   "display_name": "Python 3 (ipykernel)",
   "language": "python",
   "name": "python3"
  },
  "language_info": {
   "codemirror_mode": {
    "name": "ipython",
    "version": 3
   },
   "file_extension": ".py",
   "mimetype": "text/x-python",
   "name": "python",
   "nbconvert_exporter": "python",
   "pygments_lexer": "ipython3",
   "version": "3.10.8"
  }
 },
 "nbformat": 4,
 "nbformat_minor": 5
}
